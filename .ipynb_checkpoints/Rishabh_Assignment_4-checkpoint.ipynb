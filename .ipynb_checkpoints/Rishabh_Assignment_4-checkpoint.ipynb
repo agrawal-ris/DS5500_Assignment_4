{
 "cells": [
  {
   "cell_type": "markdown",
   "metadata": {},
   "source": [
    "# Rishabh Agrawal\n",
    "# Assignment 4"
   ]
  },
  {
   "cell_type": "markdown",
   "metadata": {},
   "source": [
    "# Libraries"
   ]
  },
  {
   "cell_type": "code",
   "execution_count": 3,
   "metadata": {},
   "outputs": [],
   "source": [
    "import pandas as pd\n",
    "import numpy as np\n",
    "import random\n",
    "import matplotlib.pyplot as plt\n",
    "import math\n",
    "from sklearn.utils import shuffle\n",
    "import sklearn.linear_model as Lm\n",
    "from sklearn.linear_model import LinearRegression as Lr\n",
    "from sklearn.metrics import mean_squared_error\n",
    "from math import sqrt\n",
    "import seaborn as sns\n",
    "from sklearn.linear_model import LogisticRegression\n",
    "import pycountry_convert as pc\n",
    "import numpy as np\n",
    "from sklearn.model_selection import train_test_split as tts\n",
    "from sklearn.metrics import accuracy_score\n",
    "from sklearn.metrics import r2_score"
   ]
  },
  {
   "cell_type": "markdown",
   "metadata": {},
   "source": [
    "# Problem 1"
   ]
  },
  {
   "cell_type": "code",
   "execution_count": 4,
   "metadata": {},
   "outputs": [
    {
     "name": "stderr",
     "output_type": "stream",
     "text": [
      "C:\\Users\\risha\\Anaconda3\\lib\\site-packages\\IPython\\core\\interactiveshell.py:3020: DtypeWarning: Columns (0,3) have mixed types. Specify dtype option on import or set low_memory=False.\n",
      "  interactivity=interactivity, compiler=compiler, result=result)\n"
     ]
    }
   ],
   "source": [
    "p1 = pd.read_table(\"Files/Sdf16_1a.txt\")"
   ]
  },
  {
   "cell_type": "code",
   "execution_count": 5,
   "metadata": {},
   "outputs": [
    {
     "name": "stdout",
     "output_type": "stream",
     "text": [
      "Total Federal Budget =  55602739138\n",
      "Amount to cut i.e. 15% of Total Budget =  8340410870.7\n",
      "Total amount left for the new Budget =  47262328267.299995\n"
     ]
    }
   ],
   "source": [
    "totalFed = p1['TFEDREV'].sum()\n",
    "print(\"Total Federal Budget = \", totalFed)\n",
    "print(\"Amount to cut i.e. 15% of Total Budget = \", 0.15 * totalFed)\n",
    "print(\"Total amount left for the new Budget = \", 0.85 * totalFed)"
   ]
  },
  {
   "cell_type": "code",
   "execution_count": 23,
   "metadata": {},
   "outputs": [],
   "source": [
    "def makeEqualBudget(df, cutPercent, total):\n",
    "    amountCut = (cutPercent/100) * total\n",
    "    ans = [0]*len(df)\n",
    "    newsum = 0\n",
    "    for i in range(len(df)):\n",
    "        if (df['AmountLeft'][i]  > 0):\n",
    "            newsum += df['AmountLeft'][i]\n",
    "    cutPercent = amountCut/newsum\n",
    "    \n",
    "    for i in range(len(df)):\n",
    "        if (amountCut == 0):\n",
    "            break\n",
    "        if (df['AmountLeft'][i] > 0):\n",
    "            ans[i] = cutPercent * df['AmountLeft'][i]\n",
    "            amountCut -= ans[i] \n",
    "\n",
    "    return amountCut, ans\n",
    "            "
   ]
  },
  {
   "cell_type": "code",
   "execution_count": 123,
   "metadata": {},
   "outputs": [],
   "source": [
    "p4 = p1\n",
    "p4 = p4.fillna(0)\n",
    "p4['AmountLeft'] = p1['TOTALREV'] - p1['TOTALEXP']\n",
    "amountLeft, p4['Federal Amount Cut'] = makeEqualBudget(p4, 15, totalFed)\n",
    "p4['Got Budget Cut'] = (p4['Federal Amount Cut'] > 0)\n",
    "p4['Cut Proportion From Total'] = p4['Federal Amount Cut'] / p1['TOTALREV']\n",
    "p41 = p4[['LEAID','NAME', 'STNAME','Federal Amount Cut', 'Cut Proportion From Total', 'TOTALREV', 'Got Budget Cut']].sort_values('Cut Proportion From Total', ascending=False)\n",
    "p41.fillna(0, inplace = True)"
   ]
  },
  {
   "cell_type": "code",
   "execution_count": 292,
   "metadata": {},
   "outputs": [
    {
     "data": {
      "text/plain": [
       "Text(0,0.5,'Count')"
      ]
     },
     "execution_count": 292,
     "metadata": {},
     "output_type": "execute_result"
    },
    {
     "data": {
      "image/png": "[encoded data removed]",
      "text/plain": [
       "<Figure size 720x360 with 1 Axes>"
      ]
     },
     "metadata": {
      "needs_background": "light"
     },
     "output_type": "display_data"
    }
   ],
   "source": [
    "plt.figure(figsize=(10,5))\n",
    "plt.hist(p41['Cut Proportion From Total'],  bins = 20)\n",
    "plt.title(\"Histogram of Proportion of Budget Cuts for Each District\")\n",
    "plt.xlabel(\"Proportion\")\n",
    "plt.ylabel('Count')"
   ]
  },
  {
   "cell_type": "markdown",
   "metadata": {},
   "source": [
    "We can see that majority of the budget cuts are proportionally in the low range i.e. less than 0.15"
   ]
  },
  {
   "cell_type": "code",
   "execution_count": 68,
   "metadata": {},
   "outputs": [
    {
     "data": {
      "text/html": [
       "<div>\n",
       "<style scoped>\n",
       "    .dataframe tbody tr th:only-of-type {\n",
       "        vertical-align: middle;\n",
       "    }\n",
       "\n",
       "    .dataframe tbody tr th {\n",
       "        vertical-align: top;\n",
       "    }\n",
       "\n",
       "    .dataframe thead th {\n",
       "        text-align: right;\n",
       "    }\n",
       "</style>\n",
       "<table border=\"1\" class=\"dataframe\">\n",
       "  <thead>\n",
       "    <tr style=\"text-align: right;\">\n",
       "      <th></th>\n",
       "      <th>LEAID</th>\n",
       "      <th>NAME</th>\n",
       "      <th>STNAME</th>\n",
       "      <th>Federal Amount Cut</th>\n",
       "      <th>Cut Proportion From Total</th>\n",
       "      <th>TOTALREV</th>\n",
       "    </tr>\n",
       "  </thead>\n",
       "  <tbody>\n",
       "    <tr>\n",
       "      <th>15896</th>\n",
       "      <td>4800191</td>\n",
       "      <td>NORTHWEST PREPARATORY</td>\n",
       "      <td>Texas</td>\n",
       "      <td>5.908030e+02</td>\n",
       "      <td>0.295402</td>\n",
       "      <td>2000</td>\n",
       "    </tr>\n",
       "    <tr>\n",
       "      <th>15838</th>\n",
       "      <td>4800091</td>\n",
       "      <td>CHILDREN FIRST ACADEMY OF DALLAS</td>\n",
       "      <td>Texas</td>\n",
       "      <td>4.342402e+04</td>\n",
       "      <td>0.295402</td>\n",
       "      <td>147000</td>\n",
       "    </tr>\n",
       "    <tr>\n",
       "      <th>10134</th>\n",
       "      <td>3400059</td>\n",
       "      <td>Galloway Community Charter School</td>\n",
       "      <td>New Jersey</td>\n",
       "      <td>8.359863e+04</td>\n",
       "      <td>0.295402</td>\n",
       "      <td>283000</td>\n",
       "    </tr>\n",
       "    <tr>\n",
       "      <th>10136</th>\n",
       "      <td>3400062</td>\n",
       "      <td>Educational Information and Resource Center</td>\n",
       "      <td>New Jersey</td>\n",
       "      <td>1.713329e+04</td>\n",
       "      <td>0.295402</td>\n",
       "      <td>58000</td>\n",
       "    </tr>\n",
       "    <tr>\n",
       "      <th>10142</th>\n",
       "      <td>3400075</td>\n",
       "      <td>Central Jersey Arts Charter School</td>\n",
       "      <td>New Jersey</td>\n",
       "      <td>1.010273e+05</td>\n",
       "      <td>0.295402</td>\n",
       "      <td>342000</td>\n",
       "    </tr>\n",
       "    <tr>\n",
       "      <th>345</th>\n",
       "      <td>400206</td>\n",
       "      <td>Desert Springs Academy</td>\n",
       "      <td>Arizona</td>\n",
       "      <td>1.562674e+05</td>\n",
       "      <td>0.295402</td>\n",
       "      <td>529000</td>\n",
       "    </tr>\n",
       "    <tr>\n",
       "      <th>12944</th>\n",
       "      <td>3901570</td>\n",
       "      <td>Citizens Academy Southeast</td>\n",
       "      <td>Ohio</td>\n",
       "      <td>4.428069e+05</td>\n",
       "      <td>0.295402</td>\n",
       "      <td>1499000</td>\n",
       "    </tr>\n",
       "    <tr>\n",
       "      <th>15791</th>\n",
       "      <td>4800023</td>\n",
       "      <td>IGNITE PUBLIC SCHOOLS AND COMMUNITY SERVICE CE...</td>\n",
       "      <td>Texas</td>\n",
       "      <td>2.954015e+02</td>\n",
       "      <td>0.295402</td>\n",
       "      <td>1000</td>\n",
       "    </tr>\n",
       "    <tr>\n",
       "      <th>15956</th>\n",
       "      <td>4800291</td>\n",
       "      <td>WINDHAM SCHOOL DISTRICT</td>\n",
       "      <td>Texas</td>\n",
       "      <td>9.461710e+05</td>\n",
       "      <td>0.295402</td>\n",
       "      <td>3203000</td>\n",
       "    </tr>\n",
       "    <tr>\n",
       "      <th>12352</th>\n",
       "      <td>3800395</td>\n",
       "      <td>ROUGHRIDER AREA CAREER &amp; TECHNICAL CENTER</td>\n",
       "      <td>North Dakota</td>\n",
       "      <td>1.078216e+05</td>\n",
       "      <td>0.295402</td>\n",
       "      <td>365000</td>\n",
       "    </tr>\n",
       "    <tr>\n",
       "      <th>2878</th>\n",
       "      <td>09D0001</td>\n",
       "      <td>COMMITTEE FOR SHARED SERVICES</td>\n",
       "      <td>Connecticut</td>\n",
       "      <td>1.296813e+05</td>\n",
       "      <td>0.295402</td>\n",
       "      <td>439000</td>\n",
       "    </tr>\n",
       "    <tr>\n",
       "      <th>15935</th>\n",
       "      <td>4800261</td>\n",
       "      <td>HARRIS COUNTY DEPT OF ED</td>\n",
       "      <td>Texas</td>\n",
       "      <td>5.408802e+05</td>\n",
       "      <td>0.295402</td>\n",
       "      <td>1831000</td>\n",
       "    </tr>\n",
       "    <tr>\n",
       "      <th>6128</th>\n",
       "      <td>2307110</td>\n",
       "      <td>Kingsbury Plt Public Schools</td>\n",
       "      <td>Maine</td>\n",
       "      <td>2.954015e+02</td>\n",
       "      <td>0.295402</td>\n",
       "      <td>1000</td>\n",
       "    </tr>\n",
       "    <tr>\n",
       "      <th>6047</th>\n",
       "      <td>2300058</td>\n",
       "      <td>West Forks Plt Public Schools</td>\n",
       "      <td>Maine</td>\n",
       "      <td>8.566644e+03</td>\n",
       "      <td>0.285555</td>\n",
       "      <td>30000</td>\n",
       "    </tr>\n",
       "    <tr>\n",
       "      <th>17152</th>\n",
       "      <td>4900189</td>\n",
       "      <td>ATHLOS ACADEMY OF UTAH</td>\n",
       "      <td>Utah</td>\n",
       "      <td>3.308497e+04</td>\n",
       "      <td>0.266814</td>\n",
       "      <td>124000</td>\n",
       "    </tr>\n",
       "    <tr>\n",
       "      <th>2811</th>\n",
       "      <td>0903512</td>\n",
       "      <td>EDUCATION CONNECTION</td>\n",
       "      <td>Connecticut</td>\n",
       "      <td>3.593559e+06</td>\n",
       "      <td>0.260554</td>\n",
       "      <td>13792000</td>\n",
       "    </tr>\n",
       "    <tr>\n",
       "      <th>7676</th>\n",
       "      <td>2680995</td>\n",
       "      <td>Wayne RESA</td>\n",
       "      <td>Michigan</td>\n",
       "      <td>9.173901e+07</td>\n",
       "      <td>0.258474</td>\n",
       "      <td>354925000</td>\n",
       "    </tr>\n",
       "    <tr>\n",
       "      <th>17289</th>\n",
       "      <td>5003630</td>\n",
       "      <td>Duxbury School District</td>\n",
       "      <td>Vermont</td>\n",
       "      <td>5.317227e+03</td>\n",
       "      <td>0.241692</td>\n",
       "      <td>22000</td>\n",
       "    </tr>\n",
       "    <tr>\n",
       "      <th>2747</th>\n",
       "      <td>0901360</td>\n",
       "      <td>EASTERN CONNECTICUT REGIONAL</td>\n",
       "      <td>Connecticut</td>\n",
       "      <td>5.980994e+06</td>\n",
       "      <td>0.241169</td>\n",
       "      <td>24800000</td>\n",
       "    </tr>\n",
       "    <tr>\n",
       "      <th>2732</th>\n",
       "      <td>0900910</td>\n",
       "      <td>COOPERATIVE EDUCATIONAL SERVI</td>\n",
       "      <td>Connecticut</td>\n",
       "      <td>7.767583e+06</td>\n",
       "      <td>0.238841</td>\n",
       "      <td>32522000</td>\n",
       "    </tr>\n",
       "    <tr>\n",
       "      <th>1424</th>\n",
       "      <td>601391</td>\n",
       "      <td>Southern Placer Schools Transportation Authority</td>\n",
       "      <td>California</td>\n",
       "      <td>1.033905e+04</td>\n",
       "      <td>0.229757</td>\n",
       "      <td>45000</td>\n",
       "    </tr>\n",
       "    <tr>\n",
       "      <th>7340</th>\n",
       "      <td>2619140</td>\n",
       "      <td>School District of the City of Inkster</td>\n",
       "      <td>Michigan</td>\n",
       "      <td>5.497422e+05</td>\n",
       "      <td>0.226231</td>\n",
       "      <td>2430000</td>\n",
       "    </tr>\n",
       "    <tr>\n",
       "      <th>6093</th>\n",
       "      <td>2304830</td>\n",
       "      <td>Damariscotta Public Schools</td>\n",
       "      <td>Maine</td>\n",
       "      <td>4.174023e+05</td>\n",
       "      <td>0.224651</td>\n",
       "      <td>1858000</td>\n",
       "    </tr>\n",
       "    <tr>\n",
       "      <th>2808</th>\n",
       "      <td>0903450</td>\n",
       "      <td>LEARN</td>\n",
       "      <td>Connecticut</td>\n",
       "      <td>7.611906e+06</td>\n",
       "      <td>0.202471</td>\n",
       "      <td>37595000</td>\n",
       "    </tr>\n",
       "    <tr>\n",
       "      <th>7665</th>\n",
       "      <td>2680880</td>\n",
       "      <td>Oakland Schools</td>\n",
       "      <td>Michigan</td>\n",
       "      <td>5.547670e+07</td>\n",
       "      <td>0.193697</td>\n",
       "      <td>286410000</td>\n",
       "    </tr>\n",
       "  </tbody>\n",
       "</table>\n",
       "</div>"
      ],
      "text/plain": [
       "         LEAID                                               NAME  \\\n",
       "15896  4800191                              NORTHWEST PREPARATORY   \n",
       "15838  4800091                   CHILDREN FIRST ACADEMY OF DALLAS   \n",
       "10134  3400059                  Galloway Community Charter School   \n",
       "10136  3400062        Educational Information and Resource Center   \n",
       "10142  3400075                 Central Jersey Arts Charter School   \n",
       "345     400206                             Desert Springs Academy   \n",
       "12944  3901570                         Citizens Academy Southeast   \n",
       "15791  4800023  IGNITE PUBLIC SCHOOLS AND COMMUNITY SERVICE CE...   \n",
       "15956  4800291                            WINDHAM SCHOOL DISTRICT   \n",
       "12352  3800395          ROUGHRIDER AREA CAREER & TECHNICAL CENTER   \n",
       "2878   09D0001                      COMMITTEE FOR SHARED SERVICES   \n",
       "15935  4800261                           HARRIS COUNTY DEPT OF ED   \n",
       "6128   2307110                       Kingsbury Plt Public Schools   \n",
       "6047   2300058                      West Forks Plt Public Schools   \n",
       "17152  4900189                             ATHLOS ACADEMY OF UTAH   \n",
       "2811   0903512                               EDUCATION CONNECTION   \n",
       "7676   2680995                                         Wayne RESA   \n",
       "17289  5003630                            Duxbury School District   \n",
       "2747   0901360                       EASTERN CONNECTICUT REGIONAL   \n",
       "2732   0900910                      COOPERATIVE EDUCATIONAL SERVI   \n",
       "1424    601391   Southern Placer Schools Transportation Authority   \n",
       "7340   2619140             School District of the City of Inkster   \n",
       "6093   2304830                        Damariscotta Public Schools   \n",
       "2808   0903450                                              LEARN   \n",
       "7665   2680880                                    Oakland Schools   \n",
       "\n",
       "             STNAME  Federal Amount Cut  Cut Proportion From Total   TOTALREV  \n",
       "15896         Texas        5.908030e+02                   0.295402       2000  \n",
       "15838         Texas        4.342402e+04                   0.295402     147000  \n",
       "10134    New Jersey        8.359863e+04                   0.295402     283000  \n",
       "10136    New Jersey        1.713329e+04                   0.295402      58000  \n",
       "10142    New Jersey        1.010273e+05                   0.295402     342000  \n",
       "345         Arizona        1.562674e+05                   0.295402     529000  \n",
       "12944          Ohio        4.428069e+05                   0.295402    1499000  \n",
       "15791         Texas        2.954015e+02                   0.295402       1000  \n",
       "15956         Texas        9.461710e+05                   0.295402    3203000  \n",
       "12352  North Dakota        1.078216e+05                   0.295402     365000  \n",
       "2878    Connecticut        1.296813e+05                   0.295402     439000  \n",
       "15935         Texas        5.408802e+05                   0.295402    1831000  \n",
       "6128          Maine        2.954015e+02                   0.295402       1000  \n",
       "6047          Maine        8.566644e+03                   0.285555      30000  \n",
       "17152          Utah        3.308497e+04                   0.266814     124000  \n",
       "2811    Connecticut        3.593559e+06                   0.260554   13792000  \n",
       "7676       Michigan        9.173901e+07                   0.258474  354925000  \n",
       "17289       Vermont        5.317227e+03                   0.241692      22000  \n",
       "2747    Connecticut        5.980994e+06                   0.241169   24800000  \n",
       "2732    Connecticut        7.767583e+06                   0.238841   32522000  \n",
       "1424     California        1.033905e+04                   0.229757      45000  \n",
       "7340       Michigan        5.497422e+05                   0.226231    2430000  \n",
       "6093          Maine        4.174023e+05                   0.224651    1858000  \n",
       "2808    Connecticut        7.611906e+06                   0.202471   37595000  \n",
       "7665       Michigan        5.547670e+07                   0.193697  286410000  "
      ]
     },
     "execution_count": 68,
     "metadata": {},
     "output_type": "execute_result"
    }
   ],
   "source": [
    "p41.head(25)"
   ]
  },
  {
   "cell_type": "markdown",
   "metadata": {},
   "source": [
    "These are the top 25 districts which are affected the most by the budget cuts because they lost around 30-20% of there total budget becaus eof the budget cuts"
   ]
  },
  {
   "cell_type": "markdown",
   "metadata": {},
   "source": [
    "# Problem 2"
   ]
  },
  {
   "cell_type": "code",
   "execution_count": 296,
   "metadata": {},
   "outputs": [],
   "source": [
    "p2 = pd.read_csv(\"Files/ccd_lea_052_1516_w_1a_011717.csv\")\n",
    "p2['LEAID'] = p2['LEAID'].astype(object)\n",
    "p41['LEAID'] = p41['LEAID'].astype(object)"
   ]
  },
  {
   "cell_type": "code",
   "execution_count": 297,
   "metadata": {},
   "outputs": [],
   "source": [
    "p2merged = pd.merge(left = p2, right = p41, left_on = \"LEA_NAME\", right_on = \"NAME\")\n",
    "p2merged = p2merged[p2merged['TOTAL'] > 0]"
   ]
  },
  {
   "cell_type": "code",
   "execution_count": 298,
   "metadata": {},
   "outputs": [],
   "source": [
    "races = {\n",
    "    'AM' : 'American Indian/Alaska Native',\n",
    "    'AS' : 'Asian',\n",
    "    'HI' : 'Hispanic',\n",
    "    'BL' : 'Black',\n",
    "    'WH' : 'White',\n",
    "    'HP' : 'Hawaiian Native / Pacific Islander',\n",
    "    'TR' : 'Two or More Races'\n",
    "}"
   ]
  },
  {
   "cell_type": "code",
   "execution_count": 300,
   "metadata": {},
   "outputs": [],
   "source": [
    "for i in races:\n",
    "    p2merged['p-'+i] = abs(p2merged[i]/p2merged['TOTAL']).fillna(0)"
   ]
  },
  {
   "cell_type": "code",
   "execution_count": 301,
   "metadata": {
    "scrolled": false
   },
   "outputs": [
    {
     "data": {
      "image/png": "[encoded data removed]",
      "text/plain": [
       "<Figure size 1080x360 with 2 Axes>"
      ]
     },
     "metadata": {
      "needs_background": "light"
     },
     "output_type": "display_data"
    },
    {
     "data": {
      "image/png": "[encoded data removed]",
      "text/plain": [
       "<Figure size 1080x360 with 2 Axes>"
      ]
     },
     "metadata": {
      "needs_background": "light"
     },
     "output_type": "display_data"
    },
    {
     "data": {
      "image/png": "[encoded data removed]",
      "text/plain": [
       "<Figure size 1080x360 with 2 Axes>"
      ]
     },
     "metadata": {
      "needs_background": "light"
     },
     "output_type": "display_data"
    },
    {
     "data": {
      "image/png": "[encoded data removed]",
      "text/plain": [
       "<Figure size 1080x360 with 2 Axes>"
      ]
     },
     "metadata": {
      "needs_background": "light"
     },
     "output_type": "display_data"
    },
    {
     "data": {
      "image/png": "[encoded data removed]",
      "text/plain": [
       "<Figure size 1080x360 with 2 Axes>"
      ]
     },
     "metadata": {
      "needs_background": "light"
     },
     "output_type": "display_data"
    },
    {
     "data": {
      "image/png": "[encoded data removed]",
      "text/plain": [
       "<Figure size 1080x360 with 2 Axes>"
      ]
     },
     "metadata": {
      "needs_background": "light"
     },
     "output_type": "display_data"
    },
    {
     "data": {
      "image/png": "[encoded data removed]",
      "text/plain": [
       "<Figure size 1080x360 with 2 Axes>"
      ]
     },
     "metadata": {
      "needs_background": "light"
     },
     "output_type": "display_data"
    }
   ],
   "source": [
    "for i in races:\n",
    "    fig, axs = plt.subplots(ncols=2,figsize=(15,5))\n",
    "    axs[0].hist(p2merged[p2merged['Got Budget Cut'] == True]['p-'+i])\n",
    "    axs[1].hist(p2merged[p2merged['Got Budget Cut'] == False]['p-'+i], color = 'Red')\n",
    "    axs[0].set_title(races[i] + ': Budget Cut')\n",
    "    axs[1].set_title(races[i] + ': No Budget Cut')\n",
    "    plt.show()"
   ]
  },
  {
   "cell_type": "markdown",
   "metadata": {},
   "source": [
    "From the plots of the respective races we can see that there isnt really that big of a difference between histograms of Budget Cut and No Budget Cuts except Hispanic, Black and White races.\n",
    "It can be clearly seen that my methods affects these 3 races much more than the other races. White race gets the most distinct plots by my budget cut as districts with less ratio of white people are more affected because they are having more budget cuts. As the plots for all the other races look almost the same we can say that none of the races were affected by the budget cut, except white race which was affected a little. It is evident from the plots that the count of each race is significantly higher than the one for no budget cut, but that is just because there are less districts with no budget cuts and mmore district with more budget cuts. Some bias in my assumptions would be that I ignored the districts with missing values, so that might produce some kind of bias in my assumption, but that would need to be explored more."
   ]
  },
  {
   "cell_type": "markdown",
   "metadata": {},
   "source": [
    "# Problem 3"
   ]
  },
  {
   "cell_type": "code",
   "execution_count": 271,
   "metadata": {},
   "outputs": [],
   "source": [
    "p3 = pd.read_csv(\"Files/ccd_lea_002089_1516_w_1a_011717.csv\")"
   ]
  },
  {
   "cell_type": "code",
   "execution_count": 272,
   "metadata": {},
   "outputs": [],
   "source": [
    "p3 = p3[p3['SPECED'] > 0]\n",
    "p3merged = pd.merge(left = p3, right = p41, left_on = \"LEA_NAME\", right_on = \"NAME\")\n",
    "p3merged = pd.merge(left = p3merged, right = p2, left_on = \"LEA_NAME\", right_on = \"LEA_NAME\")\n",
    "p3merged = p3merged[p3merged['TOTAL'] > 0]"
   ]
  },
  {
   "cell_type": "code",
   "execution_count": 273,
   "metadata": {},
   "outputs": [],
   "source": [
    "p3merged['p-disability'] = (p3merged['SPECED'] / p3merged['TOTAL']).fillna(0.5)\n",
    "p3merged = p3merged[p3merged['p-disability'] < 1.0]"
   ]
  },
  {
   "cell_type": "code",
   "execution_count": 277,
   "metadata": {},
   "outputs": [
    {
     "data": {
      "text/plain": [
       "Text(0.5,1,'Proportion of Children with Disability for Each District')"
      ]
     },
     "execution_count": 277,
     "metadata": {},
     "output_type": "execute_result"
    },
    {
     "data": {
      "image/png": "[encoded data removed]",
      "text/plain": [
       "<Figure size 432x288 with 1 Axes>"
      ]
     },
     "metadata": {
      "needs_background": "light"
     },
     "output_type": "display_data"
    }
   ],
   "source": [
    "plt.hist(p3merged['p-disability'], bins = 30)\n",
    "plt.title('Proportion of Children with Disability for Each District')"
   ]
  },
  {
   "cell_type": "markdown",
   "metadata": {},
   "source": [
    "We can see that the proportion of the children with disability is significantly less and stays mostly below 40% for each district."
   ]
  },
  {
   "cell_type": "code",
   "execution_count": 278,
   "metadata": {},
   "outputs": [
    {
     "data": {
      "text/plain": [
       "Text(0.5,1,'Children With Disability: No Budget Cut')"
      ]
     },
     "execution_count": 278,
     "metadata": {},
     "output_type": "execute_result"
    },
    {
     "data": {
      "image/png": "[encoded data removed]",
      "text/plain": [
       "<Figure size 1080x360 with 2 Axes>"
      ]
     },
     "metadata": {
      "needs_background": "light"
     },
     "output_type": "display_data"
    }
   ],
   "source": [
    "fig, axs = plt.subplots(ncols=2,figsize=(15,5))\n",
    "axs[0].hist(p3merged[p3merged['Got Budget Cut'] == True]['p-disability'])\n",
    "axs[1].hist(p3merged[p3merged['Got Budget Cut'] == False]['p-disability'], color = 'Red')\n",
    "axs[0].set_title('Children With Disability' + ': Budget Cut')\n",
    "axs[1].set_title('Children With Disability'+ ': No Budget Cut')"
   ]
  },
  {
   "cell_type": "markdown",
   "metadata": {},
   "source": [
    "As we see that the method that I chose to do the budget cut, didnt really made a difference for children with disability as the plot for budget cut and no budget cut are pretty similar. One reason for bias that can be there in this model is that the i removed all the missing values so that might have produced some kind of bias in the data as treating them by replacing them with median/mean or some other analysis might have yielded a different result. But since the count of the missing data was less, I went ahead with removing it as I thought it wont severely affect the analysis that I made."
   ]
  },
  {
   "cell_type": "markdown",
   "metadata": {},
   "source": [
    "# Problem 4"
   ]
  },
  {
   "cell_type": "markdown",
   "metadata": {},
   "source": [
    "I choose to critique the the HW3 of this github repository : https://github.com/alefiya-naseem/DataVizHw3\n",
    "\n",
    "They chose to do the budget cut on schools who were making more money then they were spending. Actually there approach is very similar to mine where they only chose the schools whose revenue was more then there expenditure, as taking only the excess money away wont harm the current functioning of that school. Then rather than cutting equal amount of money from all the districts with excess funds, they decided to cut funding proportionally to the money they have. The districts with more money get more money cut off then the district with less money.\n",
    "I think this is a very justified way of cutting the money because the district with less money will have more money remaining for them this way, whereas cutting 15% from all would have been fair but wouldnt have been justified which is what I did.\n",
    "So I think this way handles the problem very well, not affecting the workings of exisitng districts budgets. Only thing this would impact is that in an event, where a big district goes into debt, they wont have enough funds to recover as it has been already cut, whereas smaller districts might still recover."
   ]
  },
  {
   "cell_type": "markdown",
   "metadata": {},
   "source": [
    "# Problem 5"
   ]
  },
  {
   "cell_type": "markdown",
   "metadata": {},
   "source": [
    "I choose to summarize and comment on the Map Reduce + Hadoop Lecture by Prof. Jan Vitek. \n",
    "He clearly described that what the Map Reduce is used for in today's industry and how it affect the market. He clearly told the pros and cons of using Map Reduce and talked about how it is implemented. From fault tolerance to status monitoring there are various programs implemented in order to successfully run Map Reduce without errors or failed system. The phenomenon of picking of slack of some faulted CPU's is a brilliant idea which avoids the whole system going down. He talked about hadoop which is a way to implement distributed computing. He then talked about various milestone achieved by Hadoop. The pros of it would be that it is various easy to implement, large amount of datas can be handled to do efficient and fast computing but cons would be that complex architecture or procedure are very hard to implement. So you need to decide for the type of task if you need or if Map Reduce will do the job or not. All in all he summarised how or what problems are being solved today using it and how tech giants are using it in order to further expand their industry and how its getting popular with tech companies of all sizes."
   ]
  }
 ],
 "metadata": {
  "kernelspec": {
   "display_name": "Python 3",
   "language": "python",
   "name": "python3"
  },
  "language_info": {
   "codemirror_mode": {
    "name": "ipython",
    "version": 3
   },
   "file_extension": ".py",
   "mimetype": "text/x-python",
   "name": "python",
   "nbconvert_exporter": "python",
   "pygments_lexer": "ipython3",
   "version": "3.7.1"
  }
 },
 "nbformat": 4,
 "nbformat_minor": 2
}
